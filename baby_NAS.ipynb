{
 "cells": [
  {
   "cell_type": "markdown",
   "metadata": {},
   "source": [
    "# Here I will try to make a GA that find network structures for toy problems"
   ]
  },
  {
   "cell_type": "code",
   "execution_count": 1,
   "metadata": {},
   "outputs": [],
   "source": [
    "import numpy as np\n",
    "import torch\n",
    "import torch.nn as nn\n",
    "import torch.nn.functional as F\n",
    "from torch.autograd import Variable\n",
    "import torch.utils.data as Data\n",
    "\n",
    "import math\n",
    "\n",
    "import matplotlib.pyplot as plt\n",
    "%matplotlib inline\n",
    "\n",
    "import time\n",
    "import sys"
   ]
  },
  {
   "cell_type": "code",
   "execution_count": 141,
   "metadata": {},
   "outputs": [
    {
     "name": "stdout",
     "output_type": "stream",
     "text": [
      "/home/samuel/PycharmProjects/exjobb\r\n"
     ]
    }
   ],
   "source": [
    "!pwd"
   ]
  },
  {
   "cell_type": "markdown",
   "metadata": {},
   "source": [
    "## A PyTorch nn.Module class that constructs networks from encodings"
   ]
  },
  {
   "cell_type": "code",
   "execution_count": 2,
   "metadata": {},
   "outputs": [],
   "source": [
    "# I think it would be good to use blocks. Maybe check the paper about Cells\n",
    "class geno2pheno(nn.Module):\n",
    "    def __init__(self, genome, nin, nout):\n",
    "        super(geno2pheno, self).__init__()\n",
    "        # build layers from genome encoding\n",
    "        \n",
    "        n_in = nin\n",
    "        k = 1\n",
    "        fw_map = {}\n",
    "        \n",
    "        # stupid loop but I want to know how deep the net will be\n",
    "        nbr_h = 0\n",
    "        for l in genome['layers']:\n",
    "            if l['active']:\n",
    "                nbr_h += 1\n",
    "                \n",
    "        for l in genome['layers']:\n",
    "            if l['active']:\n",
    "                # Add the active layers in the encoding to the model \n",
    "                key = str(k)\n",
    "                setattr(self, key, nn.Linear(n_in, genome['n_nodes']))\n",
    "                \n",
    "                # We are on the last hidden layer, so we will not have any skipps here\n",
    "                if k == nbr_h:\n",
    "                    fw_map[key] = ['out']\n",
    "                    # at current setting n_in is same for all but first layer\n",
    "                    n_in = genome['n_nodes']\n",
    "                    break\n",
    "                    \n",
    "                fw_map[key] = [str(k + 1)]\n",
    "                \n",
    "                # Add skips to the fw_map. If they are to long, sent them to output layer\n",
    "                if l['skip'] >= nbr_h - k:\n",
    "                    fw_map[key].append('out')\n",
    "                elif l['skip'] > 0:\n",
    "                    fw_map[key].append(str(k + 1 + l['skip']))\n",
    "                \n",
    "                k += 1\n",
    "                # Again, tis is same for all but first layer\n",
    "                n_in = genome['n_nodes']\n",
    "                \n",
    "        # Since I force the first layer to be active this will mean that we never get a perceptron\n",
    "        # Is that an issue at all?\n",
    "        setattr(self, 'out', nn.Linear(n_in, nout))\n",
    "        \n",
    "        # fw_scheme is a dict containing to which layers each layer is sending its output\n",
    "        # This will fail if we have non-forward connections\n",
    "        self.fw_scheme = fw_map\n",
    "        print(self.fw_scheme)\n",
    "        \n",
    "    def forward(self, x):\n",
    "        pr=False\n",
    "        X = dict()\n",
    "        X['1'] = [x]\n",
    "        if pr:\n",
    "            print(self.fw_scheme)\n",
    "        \n",
    "        k = 1\n",
    "        # for idx in range(1, self.nbr_h + 1):\n",
    "        while hasattr(self, str(k)):\n",
    "            # pass trough all layers except the output layer\n",
    "            key = str(k)\n",
    "            if pr:\n",
    "                print(key, getattr(self, key))\n",
    "            \n",
    "            # we might want to concat instead of sum, then we need to modify input_size in __init__\n",
    "            temp_x = sum(X[key])\n",
    "            temp_out = torch.tanh(getattr(self, key)(temp_x))\n",
    "            # this seem to work when doing the list thing with x\n",
    "            for target in self.fw_scheme[key]:\n",
    "                if target in X:\n",
    "                    X[target].append(temp_out)\n",
    "                else: \n",
    "                    X[target] = [temp_out]\n",
    "                    \n",
    "            k += 1\n",
    "\n",
    "        # Identity as output function since we do regression\n",
    "        # Add support for other types od problems problems\n",
    "        temp_x = sum(X['out'])\n",
    "        out = getattr(self, 'out')(temp_x)\n",
    "        if pr: \n",
    "            print(getattr(self, 'out'))\n",
    "            \n",
    "        #print('\\n my fw_pass', X)\n",
    "        return out"
   ]
  },
  {
   "cell_type": "markdown",
   "metadata": {},
   "source": [
    "## get_net() and get_pop() creates random encodings for networks given a framework"
   ]
  },
  {
   "cell_type": "code",
   "execution_count": 4,
   "metadata": {},
   "outputs": [],
   "source": [
    "def get_net(depth, n_frame, l_frame):\n",
    "    genes = []\n",
    "    n_nodes = n_frame['n_nodes'][np.random.randint(len(n_frame['n_nodes']))]\n",
    "    \n",
    "    for i in range(depth):\n",
    "        gene_encoding = {\n",
    "            \"active\": l_frame['active'][np.random.randint(len(l_frame['active']))],\n",
    "            \"skip\": int(np.round(np.random.gamma(1, scale=1/2)))\n",
    "        }\n",
    "        if i == 0:\n",
    "            # no empty nets\n",
    "            gene_encoding['active'] = True\n",
    "        genes.append(gene_encoding)\n",
    "        \n",
    "    genome_encoding = {\n",
    "        \"n_nodes\": n_nodes,\n",
    "        \"layers\": genes\n",
    "    }\n",
    "    \n",
    "    return genome_encoding"
   ]
  },
  {
   "cell_type": "code",
   "execution_count": 5,
   "metadata": {},
   "outputs": [],
   "source": [
    "# genome = network\n",
    "# gene = layer\n",
    "def get_pop(pop_size, net_depth, n_frame, l_frame):\n",
    "    pop = []\n",
    "    for _ in range(pop_size):\n",
    "        genome = get_net(net_depth, n_frame, l_frame)\n",
    "        pop.append(genome)\n",
    "        \n",
    "    return pop"
   ]
  },
  {
   "cell_type": "markdown",
   "metadata": {},
   "source": [
    "## trainer() trains given network to fit to given objective funtion, just to see that something actually happens"
   ]
  },
  {
   "cell_type": "code",
   "execution_count": 115,
   "metadata": {},
   "outputs": [],
   "source": [
    "# Stole most of this online, should be improved uppon\n",
    "def trainer(net, epochs, noise, objective='x2'):\n",
    "    torch.manual_seed(1)    # reproducible\n",
    "\n",
    "    x = torch.unsqueeze(torch.linspace(-1, 1, 20), dim=1)  # x data (tensor), shape=(100, 1)\n",
    "    \n",
    "    if objective == 'x2':\n",
    "        y = x.pow(2) + noise * torch.rand(x.size())                 # noisy y data (tensor), shape=(100, 1)\n",
    "    elif objective == 'sinx':\n",
    "        y = torch.sin(3*3.14*x) + noise * torch.rand(x.size())          # noisy y data (tensor), shape=(100, 1)\n",
    "\n",
    "\n",
    "    # torch can only train on Variable, so convert them to Variable\n",
    "    x, y = Variable(x), Variable(y)\n",
    "    # does this help me??\n",
    "    torch.autograd.set_detect_anomaly(True)\n",
    "\n",
    "    print(net)  # net architecture\n",
    "\n",
    "    optimizer = torch.optim.SGD(net.parameters(), lr=0.2)\n",
    "    loss_func = torch.nn.MSELoss()  # this is for regression mean squared loss\n",
    "\n",
    "    # train the network\n",
    "    t0 = time.perf_counter()\n",
    "    \n",
    "    for t in range(epochs):\n",
    "        prediction = net(x)     # input x and predict based on x\n",
    "        loss = loss_func(prediction, y)     # must be (1. nn output, 2. target)\n",
    "\n",
    "        optimizer.zero_grad()   # clear gradients for next train\n",
    "        loss.backward()         # backpropagation, compute gradients\n",
    "        optimizer.step()        # apply gradients\n",
    "\n",
    "    loss = loss.data.numpy()\n",
    "    tr_time = time.perf_counter() - t0\n",
    "    print(tr_time, \"seconds to train\")\n",
    "    \n",
    "    # view data\n",
    "    plt.figure(figsize=(10,4))\n",
    "    plt.scatter(x.data.numpy(), y.data.numpy(), color = \"orange\")\n",
    "    plt.plot(x.data.numpy(), prediction.data.numpy(), 'g-', lw=3)\n",
    "\n",
    "    plt.title('Regression Analysis')\n",
    "    plt.text(1.0, 0, 'Loss = %.4f' % loss,\n",
    "                fontdict={'size': 24, 'color':  'red'})\n",
    "    plt.show()\n",
    "    \n",
    "    return loss, tr_time"
   ]
  },
  {
   "cell_type": "markdown",
   "metadata": {},
   "source": [
    "## Script that sets framework and some hyper-parameters. Then generates, briefly trains and evaluates a population. Further I want to implement a GA to find, suitable topologies for a given problem (DRL?) and increase the number of hyper-parameters in the framework."
   ]
  },
  {
   "cell_type": "code",
   "execution_count": 69,
   "metadata": {},
   "outputs": [
    {
     "name": "stdout",
     "output_type": "stream",
     "text": [
      "This is the framework from which networks are randomly constructed:\n",
      " {'n_nodes': [2, 4, 8], 'layers': {}} \n",
      "\n",
      "This is the framework from which layers are randomly constructed:\n",
      " {'active': [True, False], 'skip': ['skip ~ gamma(1, 1/2)']} \n",
      "\n"
     ]
    },
    {
     "ename": "NameError",
     "evalue": "name 'get_pop' is not defined",
     "output_type": "error",
     "traceback": [
      "\u001b[0;31m---------------------------------------------------------------------------\u001b[0m",
      "\u001b[0;31mNameError\u001b[0m                                 Traceback (most recent call last)",
      "\u001b[0;32m<ipython-input-69-37ccb6070ebd>\u001b[0m in \u001b[0;36m<module>\u001b[0;34m\u001b[0m\n\u001b[1;32m     24\u001b[0m \u001b[0;34m\u001b[0m\u001b[0m\n\u001b[1;32m     25\u001b[0m \u001b[0mpop_size\u001b[0m \u001b[0;34m=\u001b[0m \u001b[0;36m5\u001b[0m\u001b[0;34m\u001b[0m\u001b[0;34m\u001b[0m\u001b[0m\n\u001b[0;32m---> 26\u001b[0;31m \u001b[0mpop\u001b[0m \u001b[0;34m=\u001b[0m \u001b[0mget_pop\u001b[0m\u001b[0;34m(\u001b[0m\u001b[0mpop_size\u001b[0m\u001b[0;34m,\u001b[0m \u001b[0mmax_width\u001b[0m\u001b[0;34m,\u001b[0m \u001b[0mnet_framework\u001b[0m\u001b[0;34m,\u001b[0m \u001b[0mlayer_framework\u001b[0m\u001b[0;34m)\u001b[0m\u001b[0;34m\u001b[0m\u001b[0;34m\u001b[0m\u001b[0m\n\u001b[0m\u001b[1;32m     27\u001b[0m \u001b[0mnin\u001b[0m \u001b[0;34m=\u001b[0m \u001b[0;36m1\u001b[0m\u001b[0;34m\u001b[0m\u001b[0;34m\u001b[0m\u001b[0m\n\u001b[1;32m     28\u001b[0m \u001b[0mnout\u001b[0m \u001b[0;34m=\u001b[0m \u001b[0;36m1\u001b[0m\u001b[0;34m\u001b[0m\u001b[0;34m\u001b[0m\u001b[0m\n",
      "\u001b[0;31mNameError\u001b[0m: name 'get_pop' is not defined"
     ]
    }
   ],
   "source": [
    "max_width = 8\n",
    "max_depth = 8\n",
    "\n",
    "# include much more hyperparameters into the frameworks\n",
    "\n",
    "# atm we create only networks with nn.linear() layers. The only fun part is that I have\n",
    "# enabled layers to have skip connections (resdual layers?).\n",
    "layers = {}\n",
    "net_framework = {\n",
    "    \"n_nodes\": [2**i for i in range(1, int(math.log(max_width, 2)) + 1)],\n",
    "    \"layers\": {},\n",
    "}\n",
    "\n",
    "layer_framework = {\n",
    "    \"active\": [True, False],\n",
    "    \"skip\": ['skip ~ gamma(1, 1/2)']    # skip is assigned in get_net() by grawing numbers from a gamma distribution\n",
    "}\n",
    "\n",
    "print('This is the framework from which networks are randomly constructed:\\n', net_framework, '\\n')\n",
    "print('This is the framework from which layers are randomly constructed:\\n', layer_framework, '\\n')\n",
    "# sys.exit()\n",
    "\n",
    "start_time = time.perf_counter()\n",
    "\n",
    "pop_size = 5\n",
    "pop = get_pop(pop_size, max_width, net_framework, layer_framework)\n",
    "nin = 1\n",
    "nout = 1\n",
    "\n",
    "eps = 200\n",
    "noise  = 0.3\n",
    "x = np.ones(nin)\n",
    "x = torch.Tensor(x)\n",
    "\n",
    "print('Here is the networks in the population, dicts shows where each layer sends its output in each network')\n",
    "pheno_pop = []\n",
    "for g in pop:\n",
    "    pheno = geno2pheno(g, nin, nout)\n",
    "    pheno.forward(x)\n",
    "    pheno_pop.append(pheno)\n",
    "    \n",
    "#sys.exit()\n",
    "\n",
    "best = (0, 1000)\n",
    "for p in pheno_pop:\n",
    "    loss, t = trainer(p, eps, noise, objective='x2')\n",
    "    score = loss * t\n",
    "    print('score measued as training time * loss: ', score)\n",
    "    \n",
    "print('\\nAll this took ', time.perf_counter() - start_time, ' seconds')\n",
    "    \n",
    "# now we have a performance estimation for the network\n",
    "# so appliyng a GA to this should be doable\n",
    "    "
   ]
  },
  {
   "cell_type": "markdown",
   "metadata": {},
   "source": [
    "## build, train and evaluate a model given a HyperMapper scenario of parameters"
   ]
  },
  {
   "cell_type": "code",
   "execution_count": 132,
   "metadata": {},
   "outputs": [],
   "source": [
    "def ex_scenario():\n",
    "    max_width = 8\n",
    "    max_depth = 4\n",
    "\n",
    "    X = {\n",
    "        'n_nodes' : 16,    # range from 0 to max width\n",
    "        # Loop through max_depth to set for each i\n",
    "        'active_0' : 1,\n",
    "        'skip_0' : 0,\n",
    "        'active_1' : 1,   # 0/1\n",
    "        'skip_1' : 0,     # int\n",
    "        'active_2' : 1,\n",
    "        'skip_2' : 0,\n",
    "        'active_3' : 1,\n",
    "        'skip_3' : 0,\n",
    "        'active_4' : 1,\n",
    "        'skip_4' : 0\n",
    "    }\n",
    "    return X"
   ]
  },
  {
   "cell_type": "code",
   "execution_count": 133,
   "metadata": {},
   "outputs": [],
   "source": [
    "### OBSOLATE, CHECK IN MY_HYPERMAPPER FOR BETTER VERSION ###\n",
    "# I think it would be good to use blocks. Maybe check the paper about Cells\n",
    "class json2pheno(nn.Module):\n",
    "    def __init__(self, json, nin, nout):\n",
    "        super(json2pheno, self).__init__()\n",
    "        # build layers from genome encoding\n",
    "        \n",
    "        n_in = nin\n",
    "        fw_map = {}\n",
    "        \n",
    "        # stupid loop but I want to know how deep the net will be\n",
    "        active_list = []\n",
    "        for param in json.keys():\n",
    "            if param[:-2] == 'active' and json[param] == 1:\n",
    "                active_list.append(param[-1])\n",
    "                \n",
    "        # Add the active layers in the encoding to the model\n",
    "        for new_i, old_i in enumerate(active_list):\n",
    "            key = str(new_i)\n",
    "            setattr(self, key, nn.Linear(n_in, json['n_nodes']))\n",
    "\n",
    "            # We are on the last hidden layer, so we will not have any skipps here\n",
    "            if new_i == len(active_list) - 1:\n",
    "                fw_map[key] = ['out']\n",
    "                # at current setting n_in is same for all but first layer\n",
    "                n_in = json['n_nodes']\n",
    "                break\n",
    "\n",
    "            fw_map[key] = [str(new_i + 1)]\n",
    "\n",
    "            # Add skips to the fw_map. If they are to long, sent them to output layer                \n",
    "            target = json['skip_' + str(old_i)] + new_i + 1\n",
    "            if target >= len(active_list):\n",
    "                fw_map[key].append('out')\n",
    "            elif target > new_i + 1:\n",
    "                fw_map[key].append(str(target))\n",
    "\n",
    "            # Again, this is same for all but first layer\n",
    "            n_in = json['n_nodes']\n",
    "            \n",
    "                \n",
    "        setattr(self, 'out', nn.Linear(n_in, nout))\n",
    "        \n",
    "        # fw_scheme is a dict containing to which layers each layer is sending its output\n",
    "        # This will fail if we have non-forward connections\n",
    "        self.fw_scheme = fw_map\n",
    "        print(self.fw_scheme)\n",
    "        \n",
    "    def forward(self, x):\n",
    "        k = 0\n",
    "        X = dict()\n",
    "        X[str(k)] = [x]\n",
    "        while hasattr(self, str(k)):\n",
    "            # pass trough all layers except the output layer\n",
    "            key = str(k)\n",
    "           \n",
    "            # we might want to concat instead of sum, then we need to modify input_size in __init__\n",
    "            temp_x = sum(X[key])\n",
    "            temp_out = torch.tanh(getattr(self, key)(temp_x))\n",
    "            # this seem to work when doing the list thing with x\n",
    "            for target in self.fw_scheme[key]:\n",
    "                if target in X:\n",
    "                    X[target].append(temp_out)\n",
    "                else: \n",
    "                    X[target] = [temp_out]\n",
    "                    \n",
    "            k += 1\n",
    "\n",
    "        # if k = 0 we have no active layers and a perceptron model\n",
    "        if k:\n",
    "            temp_x = sum(X['out'])\n",
    "        else:\n",
    "            temp_x = x\n",
    "            \n",
    "        # Identity as output function since we do regression\n",
    "        # Add support for other types od problems problems\n",
    "        out = getattr(self, 'out')(temp_x)            \n",
    "        return out"
   ]
  },
  {
   "cell_type": "markdown",
   "metadata": {},
   "source": [
    "## Build, train and evaluate a model given the scenario"
   ]
  },
  {
   "cell_type": "code",
   "execution_count": 139,
   "metadata": {},
   "outputs": [],
   "source": [
    "def NAS_function(X):\n",
    "    \n",
    "    nin = 1\n",
    "    nout = 1\n",
    "\n",
    "    eps = 5000\n",
    "    noise  = 0.3\n",
    "    my_net = json2pheno(X, nin, nout)\n",
    "\n",
    "    loss, t = trainer(my_net, eps, noise, objective='sinx')\n",
    "    score = loss * t\n",
    "    return score"
   ]
  },
  {
   "cell_type": "code",
   "execution_count": 140,
   "metadata": {
    "scrolled": true
   },
   "outputs": [
    {
     "name": "stdout",
     "output_type": "stream",
     "text": [
      "X =  {'n_nodes': 16, 'active_0': 1, 'skip_0': 0, 'active_1': 1, 'skip_1': 0, 'active_2': 1, 'skip_2': 0, 'active_3': 1, 'skip_3': 0, 'active_4': 1, 'skip_4': 0}\n",
      "{'0': ['1'], '1': ['2'], '2': ['3'], '3': ['4'], '4': ['out']}\n",
      "json2pheno(\n",
      "  (0): Linear(in_features=1, out_features=16, bias=True)\n",
      "  (1): Linear(in_features=16, out_features=16, bias=True)\n",
      "  (2): Linear(in_features=16, out_features=16, bias=True)\n",
      "  (3): Linear(in_features=16, out_features=16, bias=True)\n",
      "  (4): Linear(in_features=16, out_features=16, bias=True)\n",
      "  (out): Linear(in_features=16, out_features=1, bias=True)\n",
      ")\n",
      "41.93708412399974 seconds to train\n"
     ]
    },
    {
     "data": {
      "image/png": "[encoded data removed]",
      "text/plain": [
       "<Figure size 720x288 with 1 Axes>"
      ]
     },
     "metadata": {
      "needs_background": "light"
     },
     "output_type": "display_data"
    },
    {
     "name": "stdout",
     "output_type": "stream",
     "text": [
      "y =  0.04285385533103003 \n",
      "\n",
      "\n",
      "All this took  42.07900632400015  seconds\n"
     ]
    }
   ],
   "source": [
    "# create scenario and evaluate it\n",
    "start_time = time.perf_counter()\n",
    "\n",
    "X = ex_scenario()\n",
    "print('X = ', X)\n",
    "y = NAS_function(X)\n",
    "print('y = ', y, '\\n')\n",
    "\n",
    "#sys.exit()\n",
    "\n",
    "\n",
    "print('\\nAll this took ', time.perf_counter() - start_time, ' seconds')\n",
    "    \n"
   ]
  },
  {
   "cell_type": "code",
   "execution_count": 24,
   "metadata": {},
   "outputs": [
    {
     "data": {
      "text/plain": [
       "0"
      ]
     },
     "execution_count": 24,
     "metadata": {},
     "output_type": "execute_result"
    }
   ],
   "source": [
    "X = ex_scenario()\n",
    "active_l = 0\n",
    "for param in X.keys():\n",
    "    if param[:-2] == 'active':\n",
    "        active_l += X[param]\n",
    "        \n",
    "active_l\n",
    "X['active_' + str(2)]"
   ]
  },
  {
   "cell_type": "code",
   "execution_count": 28,
   "metadata": {},
   "outputs": [
    {
     "name": "stdout",
     "output_type": "stream",
     "text": [
      "4\n",
      "8\n",
      "10\n",
      "13\n"
     ]
    },
    {
     "data": {
      "text/plain": [
       "37"
      ]
     },
     "execution_count": 28,
     "metadata": {},
     "output_type": "execute_result"
    }
   ],
   "source": [
    "l = [2,4,8,10,13]\n",
    "for a,b in enumerate(l):\n",
    "    if a:\n",
    "        print(b)\n",
    "    \n",
    "sum(l)"
   ]
  },
  {
   "cell_type": "code",
   "execution_count": null,
   "metadata": {},
   "outputs": [],
   "source": []
  },
  {
   "cell_type": "code",
   "execution_count": null,
   "metadata": {},
   "outputs": [],
   "source": []
  },
  {
   "cell_type": "code",
   "execution_count": null,
   "metadata": {},
   "outputs": [],
   "source": []
  },
  {
   "cell_type": "code",
   "execution_count": null,
   "metadata": {},
   "outputs": [],
   "source": []
  },
  {
   "cell_type": "code",
   "execution_count": null,
   "metadata": {},
   "outputs": [],
   "source": []
  },
  {
   "cell_type": "code",
   "execution_count": null,
   "metadata": {},
   "outputs": [],
   "source": []
  },
  {
   "cell_type": "code",
   "execution_count": null,
   "metadata": {},
   "outputs": [],
   "source": []
  },
  {
   "cell_type": "code",
   "execution_count": null,
   "metadata": {},
   "outputs": [],
   "source": []
  },
  {
   "cell_type": "code",
   "execution_count": null,
   "metadata": {},
   "outputs": [],
   "source": []
  },
  {
   "cell_type": "code",
   "execution_count": null,
   "metadata": {},
   "outputs": [],
   "source": []
  },
  {
   "cell_type": "code",
   "execution_count": null,
   "metadata": {},
   "outputs": [],
   "source": []
  },
  {
   "cell_type": "code",
   "execution_count": null,
   "metadata": {},
   "outputs": [],
   "source": []
  }
 ],
 "metadata": {
  "kernelspec": {
   "display_name": "Python 3",
   "language": "python",
   "name": "python3"
  },
  "language_info": {
   "codemirror_mode": {
    "name": "ipython",
    "version": 3
   },
   "file_extension": ".py",
   "mimetype": "text/x-python",
   "name": "python",
   "nbconvert_exporter": "python",
   "pygments_lexer": "ipython3",
   "version": "3.7.4"
  }
 },
 "nbformat": 4,
 "nbformat_minor": 2
}
