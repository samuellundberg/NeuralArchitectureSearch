{
 "cells": [
  {
   "cell_type": "markdown",
   "metadata": {},
   "source": [
    "# HyperMapper Demo"
   ]
  },
  {
   "cell_type": "markdown",
   "metadata": {},
   "source": [
    "You are looking for a parameter setting that minimizes some performance metric of your algorithm (such as runtime, error, or cost). To use HyperMapper for this purpose you need to tell it about your parameters and how to evaluate your algorithm's performance. Here, we will show how to do this on a running example using a simple algorithm called the Branin function. We look for minimizing the value of this function given the two parameters x1 and x2."
   ]
  },
  {
   "cell_type": "markdown",
   "metadata": {},
   "source": [
    "https://www.sfu.ca/~ssurjano/branin.html"
   ]
  },
  {
   "cell_type": "markdown",
   "metadata": {},
   "source": [
    "### The Branin Black-box Function"
   ]
  },
  {
   "cell_type": "markdown",
   "metadata": {},
   "source": [
    "Consider the Branin black-box function evaluation (which depends on the input variables x1 and x2), this is the objective we want to minimize:"
   ]
  },
  {
   "cell_type": "code",
   "execution_count": 1,
   "metadata": {},
   "outputs": [],
   "source": [
    "import math\n",
    "def branin_function(X):\n",
    "    x1 = X['x1']\n",
    "    x2 = X['x2']\n",
    "    a = 1.0\n",
    "    b = 5.1 / (4.0 * math.pi * math.pi)\n",
    "    c = 5.0 / math.pi\n",
    "    r = 6.0\n",
    "    s = 10.0\n",
    "    t = 1.0 / (8.0 * math.pi)\n",
    "    y_value = a * (x2 - b * x1 * x1 + c * x1 - r) ** 2 + s * (1 - t) * math.cos(x1) + s\n",
    "    return y_value"
   ]
  },
  {
   "cell_type": "markdown",
   "metadata": {},
   "source": [
    "### Setup HyperMapper to Run on Branin"
   ]
  },
  {
   "cell_type": "markdown",
   "metadata": {},
   "source": [
    "The inputs to HyperMapper specify an instance of the software configuration problem. In this quick start guide, we are showing how to optimize the Branin function value. The following is what needs to be specified as a json syntax to run Branin:"
   ]
  },
  {
   "cell_type": "raw",
   "metadata": {},
   "source": [
    "{\n",
    "    \"application_name\": \"branin\",\n",
    "    \"optimization_objectives\": [\"Value\"],\n",
    "    \"optimization_iterations\": 20,\n",
    "    \"input_parameters\" : {\n",
    "        \"x1\": {\n",
    "            \"parameter_type\" : \"real\",\n",
    "            \"values\" : [-5, 10],\n",
    "            \"parameter_default\" : 0\n",
    "        },\n",
    "        \"x2\": {\n",
    "            \"parameter_type\" : \"real\",\n",
    "            \"values\" : [0, 15],\n",
    "            \"parameter_default\" : 0\n",
    "        }\n",
    "    }\n",
    "}"
   ]
  },
  {
   "cell_type": "markdown",
   "metadata": {},
   "source": [
    "We create the json in python and then dump it on a file: "
   ]
  },
  {
   "cell_type": "code",
   "execution_count": 2,
   "metadata": {},
   "outputs": [],
   "source": [
    "import json\n",
    "scenario = {}\n",
    "scenario[\"application_name\"] = \"branin\"\n",
    "scenario[\"optimization_objectives\"] = [\"Value\"]\n",
    "scenario[\"optimization_iterations\"] = 5\n",
    "scenario[\"input_parameters\"] = {}\n",
    "\n",
    "x1 = {}\n",
    "x1[\"parameter_type\"] = \"real\"\n",
    "x1[\"values\"] = [-5, 10]\n",
    "\n",
    "x2 = {}\n",
    "x2[\"parameter_type\"] = \"real\"\n",
    "x2[\"values\"] = [0, 15]\n",
    "\n",
    "scenario[\"input_parameters\"][\"x1\"] = x1\n",
    "scenario[\"input_parameters\"][\"x2\"] = x2\n",
    "\n",
    "with open(\"example_branin_scenario.json\", \"w\") as scenario_file:\n",
    "    json.dump(scenario, scenario_file, indent=4)\n"
   ]
  },
  {
   "cell_type": "markdown",
   "metadata": {},
   "source": [
    "### Run HyperMapper"
   ]
  },
  {
   "cell_type": "markdown",
   "metadata": {},
   "source": [
    "You are all set to run Branin and HyperMapper together!\n",
    "\n",
    "To optimize the branin function, call HyperMapper's optimize method with the json file and the branin function as parameters:"
   ]
  },
  {
   "cell_type": "code",
   "execution_count": 39,
   "metadata": {},
   "outputs": [
    {
     "data": {
      "text/plain": [
       "'/home/samuel/PycharmProjects/hypermapper'"
      ]
     },
     "execution_count": 39,
     "metadata": {},
     "output_type": "execute_result"
    }
   ],
   "source": [
    "# Edited by Samuel. Must stand in hypermapper, not deeper\n",
    "%cd\n",
    "%cd \"PycharmProjects/hypermapper\"\n",
    "%pwd"
   ]
  },
  {
   "cell_type": "code",
   "execution_count": 40,
   "metadata": {},
   "outputs": [],
   "source": [
    "import sys\n",
    "# sys.path.append('../../scripts')\n",
    "sys.path.append('scripts')\n",
    "import hypermapper\n",
    "parameters_file = \"example_scenarios/quick_start/example_branin_scenario.json\"\n",
    "# parameters_file = \"example_branin_scenario.json\"\n",
    "hypermapper.optimize(parameters_file, branin_function)\n"
   ]
  },
  {
   "cell_type": "markdown",
   "metadata": {},
   "source": [
    "The result of this script is a csv file called \"branin_output_samples.csv\". You can find all the samples explored by HyperMapper during optimization in this file."
   ]
  },
  {
   "cell_type": "markdown",
   "metadata": {},
   "source": [
    "### Visualize Results"
   ]
  },
  {
   "cell_type": "markdown",
   "metadata": {},
   "source": [
    "We can visualize the optimization process with a scatterplot of the points explored during optimization. The code below plots the points explored by HyperMapper during optimization. "
   ]
  },
  {
   "cell_type": "code",
   "execution_count": 28,
   "metadata": {},
   "outputs": [
    {
     "data": {
      "image/png": "[encoded data removed]",
      "text/plain": [
       "<Figure size 432x288 with 1 Axes>"
      ]
     },
     "metadata": {
      "needs_background": "light"
     },
     "output_type": "display_data"
    }
   ],
   "source": [
    "import matplotlib as mpl\n",
    "import matplotlib.pyplot as plt\n",
    "import pandas as pd\n",
    "%matplotlib inline\n",
    "\n",
    "sampled_points = pd.read_csv(\"branin_output_samples.csv\", usecols=['x1', 'x2'])\n",
    "\n",
    "x_points = sampled_points['x1'].values\n",
    "y_points = sampled_points['x2'].values\n",
    "\n",
    "doe_x = x_points[:10]\n",
    "doe_y = y_points[:10]\n",
    "bo_x = x_points[10:]\n",
    "bo_y = y_points[10:]\n",
    "bo_iterations = list(range(len(bo_x)))\n",
    "\n",
    "point_size = mpl.rcParams['lines.markersize']**1.8\n",
    "\n",
    "cmap = plt.get_cmap('winter')\n",
    "plt.scatter(doe_x, doe_y, s=point_size, marker='.', color=\"red\")\n",
    "plt.scatter(bo_x, bo_y, s=point_size, marker='.', c=bo_iterations, cmap=cmap)\n",
    "\n",
    "# Optima for the Branin function\n",
    "op_x = [-3.141, 3.14, 9.425]\n",
    "op_y = [12.275, 2.275, 2.475]\n",
    "plt.scatter(op_x, op_y, s=point_size**1.5, marker='x', color='green')\n",
    "\n",
    "plt.xlabel(\"x1\")\n",
    "plt.ylabel(\"x2\")\n",
    "plt.show()"
   ]
  },
  {
   "cell_type": "markdown",
   "metadata": {},
   "source": [
    "Red dots show points explored during the design of experiments phase. \n",
    "Blue points show points explored during optimization, with brighter points denoting points explored in later iterations. \n",
    "\n",
    "For this example, we also show the three global optima of the Branin function with green Xs."
   ]
  },
  {
   "cell_type": "code",
   "execution_count": 38,
   "metadata": {},
   "outputs": [
    {
     "data": {
      "text/plain": [
       "'/home/samuel/PycharmProjects/hypermapper'"
      ]
     },
     "execution_count": 38,
     "metadata": {},
     "output_type": "execute_result"
    }
   ],
   "source": [
    "%pwd"
   ]
  },
  {
   "cell_type": "code",
   "execution_count": null,
   "metadata": {},
   "outputs": [],
   "source": []
  }
 ],
 "metadata": {
  "kernelspec": {
   "display_name": "Python 3",
   "language": "python",
   "name": "python3"
  },
  "language_info": {
   "codemirror_mode": {
    "name": "ipython",
    "version": 3
   },
   "file_extension": ".py",
   "mimetype": "text/x-python",
   "name": "python",
   "nbconvert_exporter": "python",
   "pygments_lexer": "ipython3",
   "version": "3.7.4"
  }
 },
 "nbformat": 4,
 "nbformat_minor": 2
}
