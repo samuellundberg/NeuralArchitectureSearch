{
 "cells": [
  {
   "cell_type": "code",
   "execution_count": 1,
   "metadata": {},
   "outputs": [],
   "source": [
    "import numpy as np\n",
    "import sys"
   ]
  },
  {
   "cell_type": "code",
   "execution_count": 2,
   "metadata": {},
   "outputs": [],
   "source": [
    "# initiate a random population of size N. Always starting and ending the journey at 0\n",
    "def rand_init(N, nbr_cities):\n",
    "    pop = np.zeros((1, nbr_cities + 1), dtype=int)\n",
    "    pop[0, 1:nbr_cities] = np.random.permutation(nbr_cities - 1) + 1\n",
    "    for _ in range(N - 1):\n",
    "        new_p = np.zeros((1, nbr_cities + 1), dtype=int)\n",
    "        new_p[0, 1:nbr_cities] = np.random.permutation(nbr_cities - 1) + 1\n",
    "        pop = np.concatenate((pop, new_p))\n",
    "\n",
    "    # print('rand_init gives: ', pop)\n",
    "    return pop"
   ]
  },
  {
   "cell_type": "code",
   "execution_count": 3,
   "metadata": {},
   "outputs": [],
   "source": [
    "# evaluate performance of phenotypes in pop\n",
    "def evaluate(pop, dist_mat):\n",
    "    N = len(pop)\n",
    "    dists = np.zeros(N)\n",
    "    for n, geno in enumerate(pop):\n",
    "        for i in range(len(geno) - 1):\n",
    "            dists[n] += dist_mat[geno[i], geno[i+1]]\n",
    "        \n",
    "    # print('evaluate gives: ', rank)\n",
    "    return dists"
   ]
  },
  {
   "cell_type": "code",
   "execution_count": 4,
   "metadata": {},
   "outputs": [],
   "source": [
    "# Gives a new popolation, two individuals meet and the best is kept.\n",
    "# so half of the population is killed of at each round and replaced with random individuals.\n",
    "# if permutate = 1 we shuffle the popolation after the round so the positions are random\n",
    "# if permute = 0 we will push winning individuals upwards and stack the bottom with the new ones\n",
    "# A individual who wins its dual will be mutated by a probability of mutation_rate\n",
    "def update_pop(old_pop, dists, mutation_rate, permutate=False, bootstrap=False):\n",
    "    N = len(old_pop)\n",
    "    new_pop = np.zeros(np.shape(old_pop), dtype=int)\n",
    "    for i in range(int(N / 2)):\n",
    "        if bootstrap:\n",
    "            indices = np.random.randint(N, size=2)\n",
    "        else:\n",
    "            indices = [2 * i, 2 * i + 1]\n",
    "\n",
    "        if dists[indices[0]] < dists[indices[1]]:\n",
    "            survivor = old_pop[indices[0]]\n",
    "        else:\n",
    "            survivor = old_pop[indices[1]]\n",
    "        \n",
    "        if np.random.uniform() < mutation_rate:\n",
    "            survivor = mutate(survivor)\n",
    "            \n",
    "        new_pop[i] = survivor\n",
    "    \n",
    "    # fyll andra halvan med nya samples\n",
    "    new_pop[int(N/2):, :] = rand_init(int(N/2), nbr_cities)\n",
    "    \n",
    "    if permutate and not bootstrap: \n",
    "        new_pop = np.random.permutation(new_pop)\n",
    "\n",
    "    # print('update_pop gives: ', new_pop)\n",
    "    return new_pop"
   ]
  },
  {
   "cell_type": "code",
   "execution_count": 24,
   "metadata": {},
   "outputs": [],
   "source": [
    "# How could I do a crossover between two paths? keep the best connections for each?\n",
    "# def crossover\n",
    "\n",
    "\n",
    "        \n"
   ]
  },
  {
   "cell_type": "code",
   "execution_count": 5,
   "metadata": {},
   "outputs": [],
   "source": [
    "# Works like the other one but uses bootstrap to pick candidates for duals. \n",
    "# Meaning that some will fight twice and som will have no chanse of survival.\n",
    "# It will not matter if I permutate or not but.\n",
    "def update_pop_bootstrap(old_pop, dists, mutation_rate):\n",
    "    N = len(old_pop)\n",
    "    new_pop = np.zeros(np.shape(old_pop), dtype=int)\n",
    "    for i in range(int(N / 2)):\n",
    "        indices = np.random.randint(N, size=10)\n",
    "        \n",
    "        if dists[indices[0]] < dists[indices[1]]:\n",
    "            survivor = old_pop[indices[0]]\n",
    "        else:\n",
    "            survivor = old_pop[indices[1]]\n",
    "        \n",
    "        if np.random.uniform() < mutation_rate:\n",
    "            survivor = mutate(survivor)\n",
    "            \n",
    "        new_pop[i] = survivor\n",
    "    \n",
    "    # fyll andra halvan med nya samples\n",
    "    new_pop[int(N/2):, :] = rand_init(int(N/2), nbr_cities)\n",
    "\n",
    "            \n",
    "    # print('update_pop gives: ', new_pop)\n",
    "    return new_pop"
   ]
  },
  {
   "cell_type": "code",
   "execution_count": 6,
   "metadata": {},
   "outputs": [],
   "source": [
    "# does the mutation by swiching place of two indices\n",
    "# Could I introduce a more profound mutation method?\n",
    "def mutate(geno):\n",
    "    swaps = np.random.randint(len(geno) - 2, size=2) + 1 \n",
    "    temp = geno[swaps[0]]\n",
    "    geno[swaps[0]] = geno[swaps[1]]\n",
    "    geno[swaps[1]] = temp\n",
    "    \n",
    "    return geno"
   ]
  },
  {
   "cell_type": "code",
   "execution_count": 7,
   "metadata": {},
   "outputs": [],
   "source": [
    "# Returns the best individual of the poputaion\n",
    "def get_best(pop, dists):\n",
    "    bi = -1\n",
    "    min_dist = dists[0] + dists[1]   # ensures that we will find something smaller\n",
    "    for idx, dist in enumerate(dists):\n",
    "        if dist < min_dist:\n",
    "            min_dist = dist\n",
    "            bi = idx\n",
    "            \n",
    "    return pop[bi], min_dist"
   ]
  },
  {
   "cell_type": "code",
   "execution_count": 34,
   "metadata": {},
   "outputs": [],
   "source": []
  },
  {
   "cell_type": "code",
   "execution_count": 10,
   "metadata": {},
   "outputs": [],
   "source": [
    "# runs the algorithm\n",
    "def GA_solver(Generations, Populations_size, mutation_rate, dist_mat, Perm, Boot):\n",
    "    nbr_cities = len(dist_mat)\n",
    "\n",
    "    if Populations_size % 2:\n",
    "        print('My program does not work for non-even population sizes. LOL')\n",
    "        sys.exit()\n",
    "\n",
    "    population = rand_init(Populations_size, nbr_cities)\n",
    "    print('pop,:\\n', population)\n",
    "    dists = evaluate(population, dist_mat)\n",
    "    print('dists, :', dists)\n",
    "\n",
    "    for k in range(Generations):\n",
    "        if np.min(dists) < 0: # 98\n",
    "            print('it took ', k, ' generations to find the optimal solution')\n",
    "            break\n",
    "\n",
    "        population = update_pop(population, dists, mutation_rate, permutate=Perm, bootstrap=Boot)\n",
    "        dists = evaluate(population, dist_mat)\n",
    "\n",
    "        if k % 100 == 0 and k > 0: mutation_rate /= 2\n",
    "\n",
    "\n",
    "        if k % 50 == 0 and k > 0:\n",
    "            candidate = get_best(population, dists)\n",
    "            print('current best candidate has the distance: ', candidate[1])\n",
    "\n",
    "\n",
    "    print('pop,:\\n', population)\n",
    "    print('dists, :', dists)\n",
    "\n",
    "    winner = get_best(population, dists)\n",
    "    print('\\nThe best path was: ', winner[0], ' Which had the distance: ', winner[1])\n"
   ]
  },
  {
   "cell_type": "code",
   "execution_count": 11,
   "metadata": {},
   "outputs": [
    {
     "name": "stdout",
     "output_type": "stream",
     "text": [
      "pop,:\n",
      " [[ 0 28  7 ... 42 13  0]\n",
      " [ 0 41 18 ...  8 19  0]\n",
      " [ 0 26 20 ... 22 31  0]\n",
      " ...\n",
      " [ 0 19  6 ... 47 48  0]\n",
      " [ 0 17 26 ... 32 21  0]\n",
      " [ 0 22 13 ... 38 35  0]]\n",
      "dists, : [1195. 1484. 1242. 1283. 1301. 1340. 1347. 1212. 1460. 1279. 1331. 1241.\n",
      " 1241. 1213. 1421. 1251. 1376. 1257. 1373. 1244. 1189. 1195. 1268. 1355.\n",
      " 1328. 1346. 1247. 1313. 1227. 1359. 1454. 1321. 1423. 1288. 1406. 1348.\n",
      " 1311. 1172. 1291. 1337. 1382. 1238. 1435. 1279. 1233. 1229. 1309. 1236.\n",
      " 1304. 1249.]\n",
      "current best candidate has the distance:  1081.0\n",
      "current best candidate has the distance:  1023.0\n",
      "current best candidate has the distance:  1050.0\n",
      "current best candidate has the distance:  1041.0\n",
      "current best candidate has the distance:  1004.0\n",
      "current best candidate has the distance:  1023.0\n",
      "current best candidate has the distance:  1040.0\n",
      "current best candidate has the distance:  1057.0\n",
      "current best candidate has the distance:  1053.0\n",
      "current best candidate has the distance:  1016.0\n",
      "current best candidate has the distance:  1048.0\n",
      "current best candidate has the distance:  1021.0\n",
      "current best candidate has the distance:  1002.0\n",
      "current best candidate has the distance:  992.0\n",
      "current best candidate has the distance:  992.0\n",
      "current best candidate has the distance:  976.0\n",
      "current best candidate has the distance:  976.0\n",
      "current best candidate has the distance:  976.0\n",
      "current best candidate has the distance:  976.0\n",
      "pop,:\n",
      " [[ 0 36 13 ... 48 24  0]\n",
      " [ 0 18 48 ...  4 39  0]\n",
      " [ 0 20 36 ... 17 33  0]\n",
      " ...\n",
      " [ 0  4  9 ... 25 34  0]\n",
      " [ 0 18 12 ... 15 37  0]\n",
      " [ 0  6 33 ...  2 28  0]]\n",
      "dists, : [ 976. 1099. 1166. 1120. 1169. 1244. 1222. 1207. 1279. 1349. 1173. 1275.\n",
      " 1249. 1210. 1269. 1082. 1024. 1246. 1446. 1290. 1213. 1296. 1271. 1280.\n",
      " 1274. 1484. 1284. 1318. 1320. 1528. 1309. 1331. 1292. 1254. 1432. 1236.\n",
      " 1285. 1214. 1244. 1423. 1124. 1285. 1455. 1275. 1387. 1286. 1389. 1507.\n",
      " 1166. 1375.]\n",
      "\n",
      "The best path was:  [ 0 36 13  3 49 17 33 41 23 25 10 18 20 12  4  8 34 21 19 31 28 39  7 37\n",
      " 27 32 46 47  5 44  1 22 15 26 43  9 42 29 35 38 40 14  2 30  6 16 11 45\n",
      " 48 24  0]  Which had the distance:  976.0\n"
     ]
    }
   ],
   "source": [
    "# Runs the GA. ATM this seams like a descent algorithm.\n",
    "\n",
    "# permutate=False, bootstrap=False, why?? might differ if we change mutation\n",
    "\n",
    "# Possible improvements: \n",
    "# 1: indtroduce a way to execute crossover (but is this an improvement??)\n",
    "# 2: Modify the way we keep individuals. (Now we do a tornament selection where half is killed off)\n",
    "\n",
    "# I do like this since I want to compare solution for different solvers \n",
    "# and then I need to have the same problem\n",
    "nbr_cities = 50\n",
    "# Could be any symetric matrix\n",
    "# dist_mat = np.array([[0, 20, 42, 35], [20, 0, 30, 34], [42, 30, 0, 12], [35, 34, 12, 0]])\n",
    "dist_mat = ((3 * np.random.random_sample((nbr_cities, nbr_cities))) ** 8) / 1000       \n",
    "# using ** etc. to increase variance\n",
    "dist_mat = np.round(np.matmul(dist_mat.transpose(), dist_mat))\n",
    "\n",
    "\n",
    "Generations = 1000\n",
    "Populations_size = 50\n",
    "mutation_rate = 1/2\n",
    "permutate = False\n",
    "bootstrap = False\n",
    "\n",
    "GA_solver(Generations, Populations_size, mutation_rate, dist_mat, permutate, bootstrap)"
   ]
  },
  {
   "cell_type": "code",
   "execution_count": 190,
   "metadata": {},
   "outputs": [
    {
     "data": {
      "text/plain": [
       "array([[0., 3., 2., 1., 0.],\n",
       "       [0., 2., 3., 1., 0.]])"
      ]
     },
     "execution_count": 190,
     "metadata": {},
     "output_type": "execute_result"
    }
   ],
   "source": [
    "v = np.zeros((1,5))\n",
    "v[:,1:4] = np.random.permutation(3) + 1\n",
    "u = np.zeros((1,5))\n",
    "u[:,1:4] = np.random.permutation(3) + 1\n",
    "np.concatenate((u,v))\n"
   ]
  },
  {
   "cell_type": "code",
   "execution_count": 9,
   "metadata": {},
   "outputs": [
    {
     "data": {
      "text/plain": [
       "array([[3, 3, 3],\n",
       "       [2, 2, 2],\n",
       "       [1, 1, 1]])"
      ]
     },
     "execution_count": 9,
     "metadata": {},
     "output_type": "execute_result"
    }
   ],
   "source": [
    "A = ((3 * np.random.random_sample((20,20))) ** 8) / 1000\n",
    "A = np.round(np.matmul(A.transpose(), A))\n",
    "\n",
    "m = np.array([[1,1,1], [2,2,2], [3,3,3]])\n",
    "np.random.permutation(m)"
   ]
  },
  {
   "cell_type": "code",
   "execution_count": 20,
   "metadata": {},
   "outputs": [
    {
     "ename": "SyntaxError",
     "evalue": "invalid syntax (<ipython-input-20-d2eb08182742>, line 1)",
     "output_type": "error",
     "traceback": [
      "\u001b[0;36m  File \u001b[0;32m\"<ipython-input-20-d2eb08182742>\"\u001b[0;36m, line \u001b[0;32m1\u001b[0m\n\u001b[0;31m    [0:5]\u001b[0m\n\u001b[0m      ^\u001b[0m\n\u001b[0;31mSyntaxError\u001b[0m\u001b[0;31m:\u001b[0m invalid syntax\n"
     ]
    }
   ],
   "source": [
    "[0:5]"
   ]
  },
  {
   "cell_type": "code",
   "execution_count": null,
   "metadata": {},
   "outputs": [],
   "source": []
  }
 ],
 "metadata": {
  "kernelspec": {
   "display_name": "Python 3",
   "language": "python",
   "name": "python3"
  },
  "language_info": {
   "codemirror_mode": {
    "name": "ipython",
    "version": 3
   },
   "file_extension": ".py",
   "mimetype": "text/x-python",
   "name": "python",
   "nbconvert_exporter": "python",
   "pygments_lexer": "ipython3",
   "version": "3.7.4"
  }
 },
 "nbformat": 4,
 "nbformat_minor": 2
}
