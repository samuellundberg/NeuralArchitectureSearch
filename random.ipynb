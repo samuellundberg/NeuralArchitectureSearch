{
 "cells": [
  {
   "cell_type": "code",
   "execution_count": 3,
   "metadata": {},
   "outputs": [],
   "source": [
    "import numpy as np\n",
    "import torch\n",
    "import torch.nn as nn\n",
    "import torch.nn.functional as F\n",
    "from torch.autograd import Variable\n",
    "import torch.utils.data as Data\n",
    "\n",
    "import math\n",
    "\n",
    "import matplotlib.pyplot as plt\n",
    "%matplotlib inline\n",
    "\n",
    "import time\n"
   ]
  },
  {
   "cell_type": "code",
   "execution_count": 11,
   "metadata": {},
   "outputs": [
    {
     "name": "stdout",
     "output_type": "stream",
     "text": [
      "torch:  tensor([[12.]])\n",
      "tensor([[1., 2., 3.]])\n",
      "tensor([[2., 2., 2.]])\n"
     ]
    },
    {
     "data": {
      "text/plain": [
       "tensor([[3., 4., 5.]])"
      ]
     },
     "execution_count": 11,
     "metadata": {},
     "output_type": "execute_result"
    }
   ],
   "source": [
    "# checking so torch works\n",
    "A = torch.Tensor(np.array([[1, 2, 3]]))\n",
    "B = torch.Tensor(np.array([[2, 2, 2]]))\n",
    "print('torch: ', A.mm(B.t()))\n",
    "\n",
    "\n",
    "\n",
    "l = [A, B]\n",
    "print(A)\n",
    "print(B)\n",
    "sum(l)\n",
    "\n"
   ]
  },
  {
   "cell_type": "markdown",
   "metadata": {},
   "source": [
    "## Make a torch model to solve a simple regression problem"
   ]
  },
  {
   "cell_type": "code",
   "execution_count": 5,
   "metadata": {},
   "outputs": [],
   "source": [
    "class My_model(nn.Module):\n",
    "    def __init__(self):\n",
    "        super(My_model, self).__init__()\n",
    "        # here we design the layers in the network\n",
    "        #self.l1 = nn.Linear(1, 10)\n",
    "        # self.l2 = nn.Linear(10,10)\n",
    "        #self.l3 = nn.Linear(10,1)\n",
    "        setattr(self, '1', nn.Linear(1, 10))\n",
    "        setattr(self, '2', nn.Linear(10, 10))\n",
    "        setattr(self, '3', nn.Linear(10, 1))\n",
    "        \n",
    "    def forward(self, x):\n",
    "        # should be a little more fun then the sequential ones\n",
    "        x = F.tanh(getattr(self, '1')(x))\n",
    "        out = F.tanh(getattr(self, '2')(x))\n",
    "        out = getattr(self, '3')(out+x)\n",
    "        return out"
   ]
  },
  {
   "cell_type": "code",
   "execution_count": 6,
   "metadata": {},
   "outputs": [],
   "source": [
    "# kolla på utils dataset och data loader\n",
    "# require_grad(input)\n",
    "\n",
    "def trainer(net, epochs, noise, objective='x2'):\n",
    "    torch.manual_seed(1)    # reproducible\n",
    "\n",
    "    x = torch.unsqueeze(torch.linspace(-1, 1, 10), dim=1)  # x data (tensor), shape=(100, 1)\n",
    "    \n",
    "    if objective == 'x2':\n",
    "        y = x.pow(2) + noise * torch.rand(x.size())                 # noisy y data (tensor), shape=(100, 1)\n",
    "    elif objective == 'sinx':\n",
    "        y = torch.sin(10*x) + noise * torch.rand(x.size())          # noisy y data (tensor), shape=(100, 1)\n",
    "\n",
    "\n",
    "    # torch can only train on Variable, so convert them to Variable\n",
    "    x, y = Variable(x), Variable(y)\n",
    "    # does this help me??\n",
    "    torch.autograd.set_detect_anomaly(True)\n",
    "\n",
    "    print(net)  # net architecture\n",
    "\n",
    "    optimizer = torch.optim.SGD(net.parameters(), lr=0.2)\n",
    "    loss_func = torch.nn.MSELoss()  # this is for regression mean squared loss\n",
    "\n",
    "    # train the network\n",
    "    t0 = time.perf_counter()\n",
    "    \n",
    "    for t in range(epochs):\n",
    "        prediction = net(x)     # input x and predict based on x\n",
    "        loss = loss_func(prediction, y)     # must be (1. nn output, 2. target)\n",
    "\n",
    "        optimizer.zero_grad()   # clear gradients for next train\n",
    "        loss.backward()         # backpropagation, compute gradients\n",
    "        optimizer.step()        # apply gradients\n",
    "\n",
    "    loss = loss.data.numpy()\n",
    "    print(time.perf_counter() - t0, \"seconds to train\")\n",
    "    \n",
    "    # view data\n",
    "    plt.figure(figsize=(10,4))\n",
    "    plt.scatter(x.data.numpy(), y.data.numpy(), color = \"orange\")\n",
    "    plt.plot(x.data.numpy(), prediction.data.numpy(), 'g-', lw=3)\n",
    "\n",
    "    plt.title('Regression Analysis')\n",
    "    plt.text(1.0, 0, 'Loss = %.4f' % loss,\n",
    "                fontdict={'size': 24, 'color':  'red'})\n",
    "    plt.show()\n",
    "    \n",
    "    return loss"
   ]
  },
  {
   "cell_type": "code",
   "execution_count": 7,
   "metadata": {},
   "outputs": [
    {
     "name": "stdout",
     "output_type": "stream",
     "text": [
      "My_model(\n",
      "  (1): Linear(in_features=1, out_features=10, bias=True)\n",
      "  (2): Linear(in_features=10, out_features=10, bias=True)\n",
      "  (3): Linear(in_features=10, out_features=1, bias=True)\n",
      ")\n"
     ]
    },
    {
     "name": "stderr",
     "output_type": "stream",
     "text": [
      "/home/samuel/anaconda3/lib/python3.7/site-packages/torch/nn/functional.py:1340: UserWarning: nn.functional.tanh is deprecated. Use torch.tanh instead.\n",
      "  warnings.warn(\"nn.functional.tanh is deprecated. Use torch.tanh instead.\")\n"
     ]
    },
    {
     "name": "stdout",
     "output_type": "stream",
     "text": [
      "2.940139795988216 seconds to train\n"
     ]
    },
    {
     "data": {
      "image/png": "[encoded data removed]",
      "text/plain": [
       "<Figure size 720x288 with 1 Axes>"
      ]
     },
     "metadata": {
      "needs_background": "light"
     },
     "output_type": "display_data"
    }
   ],
   "source": [
    "model = My_model()  # define the network\n",
    "eps = 1000\n",
    "noise  = 0.3\n",
    "loss = trainer(model, eps, noise, objective='x2')"
   ]
  },
  {
   "cell_type": "markdown",
   "metadata": {},
   "source": [
    "## Example of simple model classes\n"
   ]
  },
  {
   "cell_type": "code",
   "execution_count": null,
   "metadata": {},
   "outputs": [],
   "source": [
    "class Net(nn.Module):\n",
    "\n",
    "    def __init__(self):\n",
    "        super(Net, self).__init__()\n",
    "        # 1 input image channel, 6 output channels, 3x3 square convolution\n",
    "        # kernel\n",
    "        self.conv1 = nn.Conv2d(1, 6, 3)\n",
    "        self.conv2 = nn.Conv2d(6, 16, 3)\n",
    "        # an affine operation: y = Wx + b\n",
    "        self.fc1 = nn.Linear(16 * 6 * 6, 120)  # 6*6 from image dimension\n",
    "        self.fc2 = nn.Linear(120, 84)\n",
    "        self.fc3 = nn.Linear(84, 10)\n",
    "\n",
    "    def forward(self, x):\n",
    "        # Max pooling over a (2, 2) window\n",
    "        x = F.max_pool2d(F.relu(self.conv1(x)), (2, 2))\n",
    "        # If the size is a square you can only specify a single number\n",
    "        x = F.max_pool2d(F.relu(self.conv2(x)), 2)\n",
    "        x = x.view(-1, self.num_flat_features(x))\n",
    "        x = F.relu(self.fc1(x))\n",
    "        x = F.relu(self.fc2(x))\n",
    "        x = self.fc3(x)\n",
    "        return x\n",
    "\n",
    "    def num_flat_features(self, x):\n",
    "        size = x.size()[1:]  # all dimensions except the batch dimension\n",
    "        num_features = 1\n",
    "        for s in size:\n",
    "            num_features *= s\n",
    "        return num_features\n",
    "\n",
    "\n",
    "net = Net()\n",
    "print(net)"
   ]
  },
  {
   "cell_type": "markdown",
   "metadata": {},
   "source": [
    "### Testing gamma distributions, I use them to draw skip connections"
   ]
  },
  {
   "cell_type": "code",
   "execution_count": null,
   "metadata": {},
   "outputs": [],
   "source": [
    "# numpy.random.gamma(shape, scale=1.0, size=None)\n",
    "# (1, 1/2) is probably a good start, maybe more scale later\n",
    "shape = [1, 2, 2]\n",
    "scale = [1/2, 1/4, 1/5]\n",
    "nbr = 10000\n",
    "for i in range(3):\n",
    "    data = np.round(np.random.gamma(shape[i], scale=scale[i], size=nbr))\n",
    "    \n",
    "    plt.figure()\n",
    "    plt.hist(data)\n",
    "    plt.show()"
   ]
  },
  {
   "cell_type": "code",
   "execution_count": null,
   "metadata": {},
   "outputs": [],
   "source": []
  },
  {
   "cell_type": "code",
   "execution_count": null,
   "metadata": {},
   "outputs": [],
   "source": [
    "### IGONERE THIS ###\n",
    "genome = []\n",
    "for i in range(4):\n",
    "    encoding = {\n",
    "        \"active\": True,\n",
    "    }\n",
    "    if i == 0:\n",
    "        encoding['skip'] = 8\n",
    "    elif i == 1:\n",
    "        encoding['skip'] = 1\n",
    "    else:\n",
    "        encoding['skip'] = 0\n",
    "    genome.append(encoding)\n",
    "\n",
    "g = {\n",
    "    \"n_nodes\": 4,\n",
    "    \"layers\": genome,\n",
    "}\n",
    "\n",
    "nin = 1\n",
    "nout = 1\n",
    "\n",
    "pheno = geno2pheno(g, nin, nout)\n",
    "print(pheno, '\\n')\n",
    "\n",
    "eps = 500\n",
    "noise  = 0.3\n",
    "x = np.ones(nin)\n",
    "x = torch.Tensor(x)\n",
    "\n",
    "pheno.forward(x)\n",
    "\n",
    "loss = trainer(pheno, eps, noise, objective='x2')\n"
   ]
  },
  {
   "cell_type": "code",
   "execution_count": null,
   "metadata": {},
   "outputs": [],
   "source": []
  }
 ],
 "metadata": {
  "kernelspec": {
   "display_name": "Python 3",
   "language": "python",
   "name": "python3"
  },
  "language_info": {
   "codemirror_mode": {
    "name": "ipython",
    "version": 3
   },
   "file_extension": ".py",
   "mimetype": "text/x-python",
   "name": "python",
   "nbconvert_exporter": "python",
   "pygments_lexer": "ipython3",
   "version": "3.7.4"
  }
 },
 "nbformat": 4,
 "nbformat_minor": 2
}
